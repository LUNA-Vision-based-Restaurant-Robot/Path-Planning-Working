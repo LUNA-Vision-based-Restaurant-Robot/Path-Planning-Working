{
 "cells": [
  {
   "cell_type": "code",
   "execution_count": 4,
   "metadata": {},
   "outputs": [
    {
     "name": "stdout",
     "output_type": "stream",
     "text": [
      "Hello from Parent! And hello from Child!\n"
     ]
    }
   ],
   "source": [
    "\n",
    "class Parent:\n",
    "    def greet(self):\n",
    "        return \"Hello from Parent!\"\n",
    "\n",
    "class Child(Parent):\n",
    "    def greet(self):\n",
    "        return super().greet() + \" And hello from Child!\"\n",
    "\n",
    "x = Child()\n",
    "print(x.greet())  # Outputs: Hello from Parent! And hello from Child!"
   ]
  },
  {
   "cell_type": "code",
   "execution_count": 2,
   "metadata": {},
   "outputs": [],
   "source": [
    "class Path():\n",
    "\n",
    "\tdef __init__(self, vertices):\n",
    "\t\tself.V = vertices\n",
    "\t\tself.graph = [[0 for column in range(vertices)]\n",
    "\t\t\t\t\tfor row in range(vertices)]\n",
    "\n",
    "\tdef printSolution(self, dist):\n",
    "\t\tprint(\"Vertex \\t Distance from Source\")\n",
    "\t\tfor node in range(self.V):\n",
    "\t\t\tprint(node, \"\\t\\t\", dist[node])\n",
    "\n",
    "\t# A utility function to find the vertex with\n",
    "\t# minimum distance value, from the set of vertices\n",
    "\t# not yet included in shortest path tree\n",
    "\tdef minDistance(self, dist, sptSet):\n",
    "\n",
    "\t\t# Initialize minimum distance for next node\n",
    "\t\tmin = 1e7\n",
    "\n",
    "\t\t# Search not nearest vertex not in the\n",
    "\t\t# shortest path tree\n",
    "\t\tfor v in range(self.V):\n",
    "\t\t\tif dist[v] < min and sptSet[v] == False:\n",
    "\t\t\t\tmin = dist[v]\n",
    "\t\t\t\tmin_index = v\n",
    "\n",
    "\t\treturn min_index\n",
    "\n",
    "\t# Function that implements Dijkstra's single source\n",
    "\t# shortest path algorithm for a graph represented\n",
    "\t# using adjacency matrix representation\n",
    "\tdef dijkstra(self, src):\n",
    "\n",
    "\t\tdist = [1e7] * self.V\n",
    "\t\tdist[src] = 0\n",
    "\t\tsptSet = [False] * self.V\n",
    "\n",
    "\t\tfor cout in range(self.V):\n",
    "\n",
    "\t\t\t# Pick the minimum distance vertex from\n",
    "\t\t\t# the set of vertices not yet processed.\n",
    "\t\t\t# u is always equal to src in first iteration\n",
    "\t\t\tu = self.minDistance(dist, sptSet)\n",
    "\n",
    "\t\t\t# Put the minimum distance vertex in the\n",
    "\t\t\t# shortest path tree\n",
    "\t\t\tsptSet[u] = True\n",
    "\n",
    "\t\t\t# Update dist value of the adjacent vertices\n",
    "\t\t\t# of the picked vertex only if the current\n",
    "\t\t\t# distance is greater than new distance and\n",
    "\t\t\t# the vertex in not in the shortest path tree\n",
    "\t\t\tfor v in range(self.V):\n",
    "\t\t\t\tif (self.graph[u][v] > 0 and\n",
    "\t\t\t\tsptSet[v] == False and\n",
    "\t\t\t\tdist[v] > dist[u] + self.graph[u][v]):\n",
    "\t\t\t\t\tdist[v] = dist[u] + self.graph[u][v]\n",
    "\n",
    "\t\tself.printSolution(dist)"
   ]
  },
  {
   "cell_type": "code",
   "execution_count": null,
   "metadata": {},
   "outputs": [],
   "source": []
  },
  {
   "cell_type": "markdown",
   "metadata": {},
   "source": [
    "### The program is for adjacency matrix representation of the graph"
   ]
  },
  {
   "cell_type": "code",
   "execution_count": 3,
   "metadata": {},
   "outputs": [
    {
     "name": "stdout",
     "output_type": "stream",
     "text": [
      "Vertex \t Distance from Source\n",
      "0 \t\t 0\n",
      "1 \t\t 4\n",
      "2 \t\t 12\n",
      "3 \t\t 19\n",
      "4 \t\t 21\n",
      "5 \t\t 11\n",
      "6 \t\t 9\n",
      "7 \t\t 8\n",
      "8 \t\t 14\n"
     ]
    }
   ],
   "source": [
    "# Driver program\n",
    "g = Path(9)\n",
    "g.graph = [[0, 4, 0, 0, 0, 0, 0, 8, 0],\n",
    "\t\t[4, 0, 8, 0, 0, 0, 0, 11, 0],\n",
    "\t\t[0, 8, 0, 7, 0, 4, 0, 0, 2],\n",
    "\t\t[0, 0, 7, 0, 9, 14, 0, 0, 0],\n",
    "\t\t[0, 0, 0, 9, 0, 10, 0, 0, 0],\n",
    "\t\t[0, 0, 4, 14, 10, 0, 2, 0, 0],\n",
    "\t\t[0, 0, 0, 0, 0, 2, 0, 1, 6],\n",
    "\t\t[8, 11, 0, 0, 0, 0, 1, 0, 7],\n",
    "\t\t[0, 0, 2, 0, 0, 0, 6, 7, 0]\n",
    "\t\t]\n",
    "\n",
    "g.dijkstra(0)\n"
   ]
  },
  {
   "cell_type": "markdown",
   "metadata": {},
   "source": [
    "### Python program for Dijkstra's single source shortest path algorithm. "
   ]
  }
 ],
 "metadata": {
  "kernelspec": {
   "display_name": "Python 3",
   "language": "python",
   "name": "python3"
  },
  "language_info": {
   "codemirror_mode": {
    "name": "ipython",
    "version": 3
   },
   "file_extension": ".py",
   "mimetype": "text/x-python",
   "name": "python",
   "nbconvert_exporter": "python",
   "pygments_lexer": "ipython3",
   "version": "3.10.11"
  }
 },
 "nbformat": 4,
 "nbformat_minor": 2
}
